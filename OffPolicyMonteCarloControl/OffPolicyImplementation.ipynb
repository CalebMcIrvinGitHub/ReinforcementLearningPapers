{
 "cells": [
  {
   "attachments": {},
   "cell_type": "markdown",
   "metadata": {},
   "source": [
    "Implementation of Off-policy MC Control for estimating the optimal policy (Sutton and Barto, section 5.7, page 111)"
   ]
  },
  {
   "attachments": {},
   "cell_type": "markdown",
   "metadata": {},
   "source": [
    "We will be using OpenAI Gym's CliffWalking environment.\n",
    "\n",
    "Action Space - move up (0), move right (1), move down (2), move left (3)"
   ]
  },
  {
   "cell_type": "code",
   "execution_count": 118,
   "metadata": {},
   "outputs": [],
   "source": [
    "import gym\n",
    "import numpy as np\n",
    "from tqdm import tqdm"
   ]
  },
  {
   "cell_type": "code",
   "execution_count": 267,
   "metadata": {},
   "outputs": [],
   "source": [
    "class Agent:\n",
    "\n",
    "    '''\n",
    "    Sets up the environment, Q function, C function, and policy\n",
    "    '''\n",
    "    def __init__(self):\n",
    "        self.env = gym.make(\"CliffWalking-v0\")\n",
    "        self.Q = np.zeros((self.env.observation_space.n, self.env.action_space.n))\n",
    "        self.C = np.zeros((self.env.observation_space.n, self.env.action_space.n))\n",
    "        self.policy = np.array([np.argmax(self.Q[i]) for i in range(len(self.Q))])\n",
    "    \n",
    "    '''\n",
    "    Generates an episode, following a specific policy\n",
    "    '''\n",
    "    def generate_episode(self, policy):\n",
    "        episode = []\n",
    "\n",
    "        state = self.env.reset()[0]\n",
    "        action = policy(state)\n",
    "\n",
    "        while True:\n",
    "            new_state, reward, terminated, truncated, _ = self.env.step(action)\n",
    "            \n",
    "            episode.append([state, action, reward])\n",
    "\n",
    "            if terminated:\n",
    "                episode[-1][2] = 100 # Reward shaping, give reward if episode terminates\n",
    "                return episode\n",
    "            \n",
    "            if truncated:\n",
    "                return episode\n",
    "\n",
    "            state = new_state\n",
    "            action = policy(state)\n",
    "    \n",
    "    '''\n",
    "    Random policy for testing, highly inefficient as expected\n",
    "    '''\n",
    "    def randomPolicy(self, state):\n",
    "        return np.random.randint(self.env.action_space.n)\n",
    "    \n",
    "    '''\n",
    "    Halfway decent manually crafted policy, good for giving the agent an initial push\n",
    "    '''\n",
    "    def goRightEpsilonGreedily(self, state):\n",
    "        if np.random.rand() > 0.75:\n",
    "            return np.random.randint(self.env.action_space.n)\n",
    "        \n",
    "        return 1\n",
    "    \n",
    "    '''\n",
    "    Theoretically a better policy, but has a hard time finding the goal initially\n",
    "    '''\n",
    "    def maxQEpsilonGreedily(self, state):\n",
    "        if np.random.rand() > 0.75:\n",
    "            return np.random.randint(self.env.action_space.n)\n",
    "        \n",
    "        return np.argmax(self.Q[state])\n",
    "\n",
    "    '''\n",
    "    Control sequence, limited to a certain number of episodes\n",
    "    Follows algorithm in Sutton and Barto\n",
    "    '''\n",
    "    def control(self, num_episodes):\n",
    "        gamma = 0.95\n",
    "        for episode_number in tqdm(range(num_episodes)):\n",
    "            episode = self.generate_episode(self.goRightEpsilonGreedily)\n",
    "            G = 0\n",
    "            W = 1\n",
    "\n",
    "            for step_idx in range(len(episode) - 1, -1, -1):\n",
    "                step = episode[step_idx]\n",
    "                G = gamma * G + step[2]\n",
    "                self.C[step[0]][step[1]] = self.C[step[0]][step[1]] + W\n",
    "                self.Q[step[0]][step[1]] = self.Q[step[0]][step[1]] + W / self.C[step[0]][step[1]] * (G - self.Q[step[0]][step[1]])\n",
    "                self.policy[step[0]] = np.argmax(self.Q[step[0]])\n",
    "                if step[1] != self.policy[step[0]]:\n",
    "                    break\n",
    "                W = W / 0.25"
   ]
  },
  {
   "cell_type": "code",
   "execution_count": 274,
   "metadata": {},
   "outputs": [
    {
     "name": "stderr",
     "output_type": "stream",
     "text": [
      "100%|██████████| 10000/10000 [00:23<00:00, 426.23it/s]\n"
     ]
    }
   ],
   "source": [
    "a = Agent()\n",
    "a.control(10000)"
   ]
  },
  {
   "cell_type": "code",
   "execution_count": 275,
   "metadata": {},
   "outputs": [
    {
     "data": {
      "text/plain": [
       "array([[0, 0, 0, 0, 0, 1, 1, 1, 1, 1, 1, 2],\n",
       "       [1, 1, 1, 1, 1, 1, 1, 1, 1, 1, 1, 2],\n",
       "       [1, 1, 1, 1, 1, 1, 1, 1, 1, 1, 1, 2],\n",
       "       [0, 0, 0, 0, 0, 0, 0, 0, 0, 0, 0, 0]], dtype=int64)"
      ]
     },
     "execution_count": 275,
     "metadata": {},
     "output_type": "execute_result"
    }
   ],
   "source": [
    "a.policy.reshape(4, 12)"
   ]
  }
 ],
 "metadata": {
  "kernelspec": {
   "display_name": "Python 3",
   "language": "python",
   "name": "python3"
  },
  "language_info": {
   "codemirror_mode": {
    "name": "ipython",
    "version": 3
   },
   "file_extension": ".py",
   "mimetype": "text/x-python",
   "name": "python",
   "nbconvert_exporter": "python",
   "pygments_lexer": "ipython3",
   "version": "3.8.8 (default, Apr 13 2021, 15:08:03) [MSC v.1916 64 bit (AMD64)]"
  },
  "orig_nbformat": 4,
  "vscode": {
   "interpreter": {
    "hash": "b71e2ea7fd88c01752403482f8b390a2bb97379ffce9aede2d7f28ae0381b030"
   }
  }
 },
 "nbformat": 4,
 "nbformat_minor": 2
}
