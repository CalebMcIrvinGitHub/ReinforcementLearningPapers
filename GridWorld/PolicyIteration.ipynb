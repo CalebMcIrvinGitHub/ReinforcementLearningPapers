{
 "cells": [
  {
   "attachments": {},
   "cell_type": "markdown",
   "metadata": {},
   "source": [
    "Implementation of policy iteration (Sutton and Barto, section 4.3, page 80)"
   ]
  },
  {
   "cell_type": "code",
   "execution_count": 2,
   "metadata": {},
   "outputs": [],
   "source": [
    "import pandas as pd\n",
    "import numpy as np"
   ]
  },
  {
   "cell_type": "code",
   "execution_count": 76,
   "metadata": {},
   "outputs": [
    {
     "ename": "SyntaxError",
     "evalue": "invalid syntax (Temp/ipykernel_6264/1627684492.py, line 44)",
     "output_type": "error",
     "traceback": [
      "\u001b[1;36m  File \u001b[1;32m\"C:\\Users\\Caleb\\AppData\\Local\\Temp/ipykernel_6264/1627684492.py\"\u001b[1;36m, line \u001b[1;32m44\u001b[0m\n\u001b[1;33m    value +=\u001b[0m\n\u001b[1;37m             ^\u001b[0m\n\u001b[1;31mSyntaxError\u001b[0m\u001b[1;31m:\u001b[0m invalid syntax\n"
     ]
    }
   ],
   "source": [
    "class Agent:\n",
    "\n",
    "    '''\n",
    "    Initializes the agent\n",
    "    @param rows - The number of rows in the grid world\n",
    "    @param columns - The number of columns in the grid world\n",
    "    @param terminal_state - The final state the agent is trying to find the best path to\n",
    "    '''\n",
    "    def __init__(self, rows, columns, terminal_state):\n",
    "        # self.grid = np.random.rand(rows, columns) * -1 # Initializes\n",
    "        self.rows = rows\n",
    "        self.columns = columns\n",
    "        self.values = np.zeros((rows, columns)) # Initializes all state values to zero\n",
    "        self.policies = self.initializePolicies() # Initializes policies for each cell,\n",
    "                                                  # policies[row][column] is an array where the value\n",
    "                                                  # at index 0 is the probability that up is the optimal choice,\n",
    "                                                  # 1 is right, 2 is down, 3 is left (clockwise around Cartesian)\n",
    "        self.terminal_state = terminal_state # Where the end state is located on the grid\n",
    "\n",
    "    '''\n",
    "    Initializes the policies for each cell in the grid world\n",
    "    '''\n",
    "    def initializePolicies(self):\n",
    "        policies = np.empty((self.rows, self.columns, 4))\n",
    "\n",
    "        # Fill the array with random values that sum to 1\n",
    "        for i in range(self.rows):\n",
    "            for j in range(self.columns):\n",
    "                policies[i, j] = np.random.dirichlet(np.ones(4))\n",
    "\n",
    "        return policies\n",
    "\n",
    "    '''\n",
    "    Performs a policy evaluation step, updates the policy\n",
    "    @param theta - A value close to zero signifying completion, determines the accuracy of the estimation\n",
    "    @param gamma - A value signifying by how much to discount future rewards \n",
    "    '''\n",
    "    def policyEvaluation(self, theta, gamma):\n",
    "        delta = 0 # This is the check to know when to stop evaluation\n",
    "        for state in np.ndenumerate(self.values): # Iterate over states - in the form ((row, column), value)\n",
    "            prev_value = self.values[state[0]] # Get value of the state\n",
    "            successors = self.getAvailableSuccessorStates(state[0]) # Get possible next states\n",
    "            \n",
    "            value = 0\n",
    "            for successor in range(len(successors)):\n",
    "                if self.isValidState(successors[successor]):\n",
    "                    value += \n",
    "\n",
    "\n",
    "\n",
    "\n",
    "\n",
    "    def isValidState(self, coords):\n",
    "        return coords[0] >= 0 and coords[0] < self.columns and coords[1] >= 0 and coords[1] < self.rows\n",
    "\n",
    "    '''\n",
    "    Gets the available successor states (necessary because our grid world has walls)\n",
    "    @param coords - coordinates in tuple form (x, y) of our state\n",
    "    @return a list of successors\n",
    "    '''\n",
    "    def getAvailableSuccessorStates(self, coords):\n",
    "        successors = []\n",
    "        \n",
    "        # if coords[1] != 0:\n",
    "        successors.append((coords[0], coords[1] - 1))\n",
    "\n",
    "        # if coords[0] != self.rows - 1:\n",
    "        successors.append((coords[0] + 1, coords[1]))\n",
    "\n",
    "        # if coords[1] != self.columns - 1:\n",
    "        successors.append((coords[0], coords[1] + 1))\n",
    "\n",
    "        # if coords[0] != 0:\n",
    "        successors.append((coords[0] - 1, coords[1]))\n",
    "\n",
    "        return successors\n",
    "            \n",
    "                "
   ]
  },
  {
   "cell_type": "code",
   "execution_count": 65,
   "metadata": {},
   "outputs": [
    {
     "name": "stdout",
     "output_type": "stream",
     "text": [
      "((0, 0), 0.0)\n",
      "((0, 1), 0.0)\n",
      "((0, 2), 0.0)\n",
      "((0, 3), 0.0)\n",
      "((0, 4), 0.0)\n",
      "((1, 0), 0.0)\n",
      "((1, 1), 0.0)\n",
      "((1, 2), 0.0)\n",
      "((1, 3), 0.0)\n",
      "((1, 4), 0.0)\n",
      "((2, 0), 0.0)\n",
      "((2, 1), 0.0)\n",
      "((2, 2), 0.0)\n",
      "((2, 3), 0.0)\n",
      "((2, 4), 0.0)\n"
     ]
    }
   ],
   "source": [
    "a = Agent(3, 5, (2, 4))\n",
    "a.terminal_state\n",
    "a.policyEvaluation(0.01)"
   ]
  },
  {
   "cell_type": "code",
   "execution_count": 75,
   "metadata": {},
   "outputs": [
    {
     "name": "stdout",
     "output_type": "stream",
     "text": [
      "[[[0.21154331 0.33382619 0.24539256 0.20923794]\n",
      "  [0.12557359 0.23657699 0.13115001 0.50669941]\n",
      "  [0.54164484 0.07901886 0.25635204 0.12298427]\n",
      "  [0.23301182 0.72122972 0.02045376 0.0253047 ]\n",
      "  [0.00381501 0.3338595  0.2812441  0.3810814 ]]\n",
      "\n",
      " [[0.50688886 0.21160757 0.08158917 0.1999144 ]\n",
      "  [0.02999541 0.24340343 0.03687151 0.68972966]\n",
      "  [0.24041855 0.1745123  0.10012628 0.48494287]\n",
      "  [0.25067527 0.34584997 0.00780675 0.39566801]\n",
      "  [0.15970671 0.16182343 0.48534736 0.19312251]]\n",
      "\n",
      " [[0.19555088 0.2521788  0.52500612 0.02726419]\n",
      "  [0.42531765 0.42984014 0.09142027 0.05342194]\n",
      "  [0.168217   0.20068307 0.37483209 0.25626784]\n",
      "  [0.89585399 0.02164674 0.0471209  0.03537837]\n",
      "  [0.46866893 0.12929399 0.2779681  0.12406898]]]\n"
     ]
    },
    {
     "data": {
      "text/plain": [
       "array([0.12557359, 0.23657699, 0.13115001, 0.50669941])"
      ]
     },
     "execution_count": 75,
     "metadata": {},
     "output_type": "execute_result"
    }
   ],
   "source": [
    "import numpy as np\n",
    "\n",
    "# Set the seed for reproducibility\n",
    "np.random.seed(0)\n",
    "\n",
    "# Create the array with 3 rows and 5 columns\n",
    "array = np.empty((3, 5, 4))\n",
    "\n",
    "# Fill the array with random values that sum to 1\n",
    "for i in range(3):\n",
    "    for j in range(5):\n",
    "        array[i, j] = np.random.dirichlet(np.ones(4))\n",
    "\n",
    "print(array)\n",
    "array[0][1]"
   ]
  },
  {
   "cell_type": "code",
   "execution_count": null,
   "metadata": {},
   "outputs": [],
   "source": []
  }
 ],
 "metadata": {
  "kernelspec": {
   "display_name": "Python 3",
   "language": "python",
   "name": "python3"
  },
  "language_info": {
   "codemirror_mode": {
    "name": "ipython",
    "version": 3
   },
   "file_extension": ".py",
   "mimetype": "text/x-python",
   "name": "python",
   "nbconvert_exporter": "python",
   "pygments_lexer": "ipython3",
   "version": "3.8.8"
  },
  "orig_nbformat": 4,
  "vscode": {
   "interpreter": {
    "hash": "b71e2ea7fd88c01752403482f8b390a2bb97379ffce9aede2d7f28ae0381b030"
   }
  }
 },
 "nbformat": 4,
 "nbformat_minor": 2
}
