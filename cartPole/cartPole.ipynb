{
 "cells": [
  {
   "cell_type": "markdown",
   "metadata": {},
   "source": [
    "This notebook explores the OpenAI GYM CartPole environment"
   ]
  },
  {
   "cell_type": "markdown",
   "metadata": {},
   "source": [
    "The action space has two actions in a nd array, with shape (1, ), that can take on values in {0, 1}\n",
    "\n",
    "0 - push cart left\n",
    "\n",
    "1 - push cart right"
   ]
  },
  {
   "cell_type": "markdown",
   "metadata": {},
   "source": [
    "The observation has four values:\n",
    "\n",
    "| Num | Observation           | Min                 | Max               |\n",
    "|-----|-----------------------|---------------------|-------------------|\n",
    "| 0   | Cart Position         | -4.8                | 4.8               |\n",
    "| 1   | Cart Velocity         | -Inf                | Inf               |\n",
    "| 2   | Pole Angle            | ~ -0.418 rad (-24°) | ~ 0.418 rad (24°) |\n",
    "| 3   | Pole Angular Velocity | -Inf                | Inf               |"
   ]
  },
  {
   "cell_type": "code",
   "execution_count": 28,
   "metadata": {},
   "outputs": [
    {
     "name": "stdout",
     "output_type": "stream",
     "text": [
      "Requirement already satisfied: gym in c:\\users\\caleb\\miniconda3\\lib\\site-packages (0.26.2)\n",
      "Requirement already satisfied: gym-notices>=0.0.4 in c:\\users\\caleb\\miniconda3\\lib\\site-packages (from gym) (0.0.8)\n",
      "Requirement already satisfied: importlib-metadata>=4.8.0 in c:\\users\\caleb\\miniconda3\\lib\\site-packages (from gym) (4.11.3)\n",
      "Requirement already satisfied: cloudpickle>=1.2.0 in c:\\users\\caleb\\miniconda3\\lib\\site-packages (from gym) (2.2.0)\n",
      "Requirement already satisfied: numpy>=1.18.0 in c:\\users\\caleb\\miniconda3\\lib\\site-packages (from gym) (1.22.1)\n",
      "Requirement already satisfied: zipp>=0.5 in c:\\users\\caleb\\miniconda3\\lib\\site-packages (from importlib-metadata>=4.8.0->gym) (3.7.0)\n",
      "\n",
      "[notice] A new release of pip available: 22.1.2 -> 22.3.1\n",
      "[notice] To update, run: python.exe -m pip install --upgrade pip\n",
      "Note: you may need to restart the kernel to use updated packages.\n"
     ]
    }
   ],
   "source": [
    "%pip install gym\n",
    "%pip install gym[classic_control]\n",
    "%pip install tensorflow\n",
    "%pip install keras-rl2"
   ]
  },
  {
   "cell_type": "code",
   "execution_count": 1,
   "metadata": {},
   "outputs": [],
   "source": [
    "def randomActions(env):\n",
    "    for episode in range(10):\n",
    "        env.reset()\n",
    "        env.render()\n",
    "        terminated = False\n",
    "        score = 0\n",
    "\n",
    "        while not terminated:\n",
    "            action = env.action_space.sample()\n",
    "            _, reward, terminated, _, _ = env.step(action)\n",
    "            score += reward\n",
    "        \n",
    "        print('Episode: {}, Score: {}'.format(episode, score))\n",
    "\n",
    "    env.close()"
   ]
  },
  {
   "cell_type": "code",
   "execution_count": 2,
   "metadata": {},
   "outputs": [],
   "source": [
    "def slightlySmart(env):\n",
    "    for episode in range(10):\n",
    "        env.reset()\n",
    "        env.render()\n",
    "        terminated = False\n",
    "        score = 0\n",
    "\n",
    "        action = 0\n",
    "        while not terminated:\n",
    "            observation, reward, terminated, _, _ = env.step(action)\n",
    "            if observation[2] < 0:\n",
    "                action = 0\n",
    "            else:\n",
    "                action = 1\n",
    "            score += reward\n",
    "        \n",
    "        print('Episode: {}, Score: {}'.format(episode, score))\n",
    "\n",
    "    env.close()"
   ]
  },
  {
   "cell_type": "code",
   "execution_count": 3,
   "metadata": {},
   "outputs": [],
   "source": [
    "import gym\n",
    "\n",
    "env = gym.make(\"CartPole-v1\", render_mode=\"human\")\n",
    "states = env.observation_space.shape[0]\n",
    "actions = env.action_space.n"
   ]
  },
  {
   "cell_type": "markdown",
   "metadata": {},
   "source": [
    "Keras Agent"
   ]
  },
  {
   "cell_type": "code",
   "execution_count": 4,
   "metadata": {},
   "outputs": [],
   "source": [
    "import numpy as np\n",
    "import tensorflow as tf"
   ]
  },
  {
   "cell_type": "code",
   "execution_count": 5,
   "metadata": {},
   "outputs": [],
   "source": [
    "def build_model(states, actions):\n",
    "    model = tf.keras.models.Sequential()\n",
    "    model.add(tf.keras.layers.Dense(24, input_dim=states, activation='relu'))\n",
    "    model.add(tf.keras.layers.Dense(24, activation='relu'))\n",
    "    model.add(tf.keras.layers.Dense(actions, activation='linear'))\n",
    "    return model"
   ]
  },
  {
   "cell_type": "code",
   "execution_count": 8,
   "metadata": {},
   "outputs": [
    {
     "name": "stdout",
     "output_type": "stream",
     "text": [
      "Model: \"sequential_1\"\n",
      "_________________________________________________________________\n",
      " Layer (type)                Output Shape              Param #   \n",
      "=================================================================\n",
      " dense_1 (Dense)             (None, 24)                120       \n",
      "                                                                 \n",
      " dense_2 (Dense)             (None, 24)                600       \n",
      "                                                                 \n",
      " dense_3 (Dense)             (None, 2)                 50        \n",
      "                                                                 \n",
      "=================================================================\n",
      "Total params: 770\n",
      "Trainable params: 770\n",
      "Non-trainable params: 0\n",
      "_________________________________________________________________\n"
     ]
    }
   ],
   "source": [
    "model = build_model(states, actions)\n",
    "model.summary()"
   ]
  },
  {
   "cell_type": "code",
   "execution_count": 9,
   "metadata": {},
   "outputs": [],
   "source": [
    "from rl.agents import DQNAgent\n",
    "from rl.policy import BoltzmannQPolicy\n",
    "from rl.memory import SequentialMemory "
   ]
  },
  {
   "cell_type": "code",
   "execution_count": 10,
   "metadata": {},
   "outputs": [],
   "source": [
    "def build_agent(model, actions):\n",
    "    policy = BoltzmannQPolicy()\n",
    "    memory = SequentialMemory(limit=50000, window_length=1)\n",
    "    dqn = DQNAgent(model=model, memory=memory, policy=policy, nb_actions=actions, nb_steps_warmup=10, target_model_update=1e-2)\n",
    "    return dqn"
   ]
  },
  {
   "cell_type": "code",
   "execution_count": 11,
   "metadata": {},
   "outputs": [
    {
     "ename": "AttributeError",
     "evalue": "'Sequential' object has no attribute '_compile_time_distribution_strategy'",
     "output_type": "error",
     "traceback": [
      "\u001b[1;31m---------------------------------------------------------------------------\u001b[0m",
      "\u001b[1;31mAttributeError\u001b[0m                            Traceback (most recent call last)",
      "\u001b[1;32mc:\\Users\\Caleb\\Documents\\OpenAI Gym\\cartPole.ipynb Cell 14\u001b[0m in \u001b[0;36m<cell line: 4>\u001b[1;34m()\u001b[0m\n\u001b[0;32m      <a href='vscode-notebook-cell:/c%3A/Users/Caleb/Documents/OpenAI%20Gym/cartPole.ipynb#X16sZmlsZQ%3D%3D?line=1'>2</a>\u001b[0m opt \u001b[39m=\u001b[39m tf\u001b[39m.\u001b[39mkeras\u001b[39m.\u001b[39moptimizers\u001b[39m.\u001b[39mAdam\n\u001b[0;32m      <a href='vscode-notebook-cell:/c%3A/Users/Caleb/Documents/OpenAI%20Gym/cartPole.ipynb#X16sZmlsZQ%3D%3D?line=2'>3</a>\u001b[0m opt\u001b[39m.\u001b[39m_name\u001b[39m=\u001b[39m\u001b[39m'\u001b[39m\u001b[39mAdam\u001b[39m\u001b[39m'\u001b[39m\n\u001b[1;32m----> <a href='vscode-notebook-cell:/c%3A/Users/Caleb/Documents/OpenAI%20Gym/cartPole.ipynb#X16sZmlsZQ%3D%3D?line=3'>4</a>\u001b[0m agent\u001b[39m.\u001b[39;49mcompile(opt(learning_rate\u001b[39m=\u001b[39;49m\u001b[39m1e-3\u001b[39;49m), metrics\u001b[39m=\u001b[39;49m[\u001b[39m'\u001b[39;49m\u001b[39mmae\u001b[39;49m\u001b[39m'\u001b[39;49m])\n\u001b[0;32m      <a href='vscode-notebook-cell:/c%3A/Users/Caleb/Documents/OpenAI%20Gym/cartPole.ipynb#X16sZmlsZQ%3D%3D?line=4'>5</a>\u001b[0m agent\u001b[39m.\u001b[39mfit(env, nb_steps\u001b[39m=\u001b[39m\u001b[39m50000\u001b[39m, visualize\u001b[39m=\u001b[39m\u001b[39mFalse\u001b[39;00m, verbose\u001b[39m=\u001b[39m\u001b[39m1\u001b[39m)\n",
      "File \u001b[1;32mc:\\Users\\Caleb\\miniconda3\\lib\\site-packages\\rl\\agents\\dqn.py:167\u001b[0m, in \u001b[0;36mDQNAgent.compile\u001b[1;34m(self, optimizer, metrics)\u001b[0m\n\u001b[0;32m    164\u001b[0m metrics \u001b[39m+\u001b[39m\u001b[39m=\u001b[39m [mean_q]  \u001b[39m# register default metrics\u001b[39;00m\n\u001b[0;32m    166\u001b[0m \u001b[39m# We never train the target model, hence we can set the optimizer and loss arbitrarily.\u001b[39;00m\n\u001b[1;32m--> 167\u001b[0m \u001b[39mself\u001b[39m\u001b[39m.\u001b[39mtarget_model \u001b[39m=\u001b[39m clone_model(\u001b[39mself\u001b[39;49m\u001b[39m.\u001b[39;49mmodel, \u001b[39mself\u001b[39;49m\u001b[39m.\u001b[39;49mcustom_model_objects)\n\u001b[0;32m    168\u001b[0m \u001b[39mself\u001b[39m\u001b[39m.\u001b[39mtarget_model\u001b[39m.\u001b[39mcompile(optimizer\u001b[39m=\u001b[39m\u001b[39m'\u001b[39m\u001b[39msgd\u001b[39m\u001b[39m'\u001b[39m, loss\u001b[39m=\u001b[39m\u001b[39m'\u001b[39m\u001b[39mmse\u001b[39m\u001b[39m'\u001b[39m)\n\u001b[0;32m    169\u001b[0m \u001b[39mself\u001b[39m\u001b[39m.\u001b[39mmodel\u001b[39m.\u001b[39mcompile(optimizer\u001b[39m=\u001b[39m\u001b[39m'\u001b[39m\u001b[39msgd\u001b[39m\u001b[39m'\u001b[39m, loss\u001b[39m=\u001b[39m\u001b[39m'\u001b[39m\u001b[39mmse\u001b[39m\u001b[39m'\u001b[39m)\n",
      "File \u001b[1;32mc:\\Users\\Caleb\\miniconda3\\lib\\site-packages\\rl\\util.py:16\u001b[0m, in \u001b[0;36mclone_model\u001b[1;34m(model, custom_objects)\u001b[0m\n\u001b[0;32m     11\u001b[0m config \u001b[39m=\u001b[39m {\n\u001b[0;32m     12\u001b[0m     \u001b[39m'\u001b[39m\u001b[39mclass_name\u001b[39m\u001b[39m'\u001b[39m: model\u001b[39m.\u001b[39m\u001b[39m__class__\u001b[39m\u001b[39m.\u001b[39m\u001b[39m__name__\u001b[39m,\n\u001b[0;32m     13\u001b[0m     \u001b[39m'\u001b[39m\u001b[39mconfig\u001b[39m\u001b[39m'\u001b[39m: model\u001b[39m.\u001b[39mget_config(),\n\u001b[0;32m     14\u001b[0m }\n\u001b[0;32m     15\u001b[0m clone \u001b[39m=\u001b[39m model_from_config(config, custom_objects\u001b[39m=\u001b[39mcustom_objects)\n\u001b[1;32m---> 16\u001b[0m clone\u001b[39m.\u001b[39mset_weights(model\u001b[39m.\u001b[39;49mget_weights())\n\u001b[0;32m     17\u001b[0m \u001b[39mreturn\u001b[39;00m clone\n",
      "File \u001b[1;32mc:\\Users\\Caleb\\miniconda3\\lib\\site-packages\\keras\\engine\\training_v1.py:160\u001b[0m, in \u001b[0;36mModel.get_weights\u001b[1;34m(self)\u001b[0m\n\u001b[0;32m    152\u001b[0m \u001b[39mdef\u001b[39;00m \u001b[39mget_weights\u001b[39m(\u001b[39mself\u001b[39m):\n\u001b[0;32m    153\u001b[0m     \u001b[39m\"\"\"Retrieves the weights of the model.\u001b[39;00m\n\u001b[0;32m    154\u001b[0m \n\u001b[0;32m    155\u001b[0m \u001b[39m    Returns:\u001b[39;00m\n\u001b[0;32m    156\u001b[0m \u001b[39m        A flat list of Numpy arrays.\u001b[39;00m\n\u001b[0;32m    157\u001b[0m \u001b[39m    \"\"\"\u001b[39;00m\n\u001b[0;32m    158\u001b[0m     strategy \u001b[39m=\u001b[39m (\n\u001b[0;32m    159\u001b[0m         \u001b[39mself\u001b[39m\u001b[39m.\u001b[39m_distribution_strategy\n\u001b[1;32m--> 160\u001b[0m         \u001b[39mor\u001b[39;00m \u001b[39mself\u001b[39;49m\u001b[39m.\u001b[39;49m_compile_time_distribution_strategy\n\u001b[0;32m    161\u001b[0m     )\n\u001b[0;32m    162\u001b[0m     \u001b[39mif\u001b[39;00m strategy:\n\u001b[0;32m    163\u001b[0m         \u001b[39mwith\u001b[39;00m strategy\u001b[39m.\u001b[39mscope():\n",
      "\u001b[1;31mAttributeError\u001b[0m: 'Sequential' object has no attribute '_compile_time_distribution_strategy'"
     ]
    }
   ],
   "source": [
    "agent = build_agent(model, actions)\n",
    "opt = tf.keras.optimizers.Adam\n",
    "opt._name='Adam'\n",
    "agent.compile(opt(learning_rate=1e-3), metrics=['mae'])\n",
    "agent.fit(env, nb_steps=50000, visualize=False, verbose=1)"
   ]
  },
  {
   "cell_type": "markdown",
   "metadata": {},
   "source": [
    "PyTorch DQN Agent"
   ]
  },
  {
   "cell_type": "code",
   "execution_count": 6,
   "metadata": {},
   "outputs": [
    {
     "name": "stderr",
     "output_type": "stream",
     "text": [
      "c:\\Users\\Caleb\\miniconda3\\lib\\site-packages\\tqdm\\auto.py:22: TqdmWarning: IProgress not found. Please update jupyter and ipywidgets. See https://ipywidgets.readthedocs.io/en/stable/user_install.html\n",
      "  from .autonotebook import tqdm as notebook_tqdm\n"
     ]
    }
   ],
   "source": [
    "from collections import deque\n",
    "import random\n",
    "from scipy.interpolate import interp1d\n",
    "import torch\n",
    "import torch.nn as nn\n",
    "import torch.nn.functional as F"
   ]
  },
  {
   "cell_type": "code",
   "execution_count": 7,
   "metadata": {},
   "outputs": [],
   "source": [
    "class ReplayMemory:\n",
    "    def __init__(self, capacity):\n",
    "        self.capacity = capacity\n",
    "        self.memory = deque(maxlen=capacity)\n",
    "    \n",
    "    def update(self, transition):\n",
    "        # transition[0] = state at time t\n",
    "        # transition[1] = action at time t\n",
    "        # transition[2] = reward at time t\n",
    "        # transition[3] = state at time t + 1\n",
    "        self.memory.append(transition)\n",
    "    \n",
    "    def sample(self, batch_size):\n",
    "        return random.sample(self.memory, batch_size)"
   ]
  },
  {
   "cell_type": "code",
   "execution_count": 8,
   "metadata": {},
   "outputs": [],
   "source": [
    "class ActionObservationSequence:\n",
    "\n",
    "    # Params:\n",
    "    # initial_observation - initial observation of the environment (x_1)\n",
    "    # max_steps - limit at which point we end the sequence\n",
    "    def __init__(self, initial_observation, max_steps):\n",
    "        self.sequence = deque(maxlen=max_steps)\n",
    "        self.sequence.append(initial_observation)\n",
    "    \n",
    "    def update(self, observation):\n",
    "        self.sequence.append(observation)"
   ]
  },
  {
   "cell_type": "code",
   "execution_count": 9,
   "metadata": {},
   "outputs": [],
   "source": [
    "class DQN(nn.Module):\n",
    "\n",
    "    def __init__(self, states, actions):\n",
    "        super().__init__()\n",
    "        self.layer1 = nn.Linear(states, 24)\n",
    "        self.layer2 = nn.Linear(24, 48)\n",
    "        self.layer3 = nn.Linear(48, 24)\n",
    "        self.layer4 = nn.Linear(24, actions)\n",
    "    \n",
    "    def forward(self, x):\n",
    "        x = F.relu(self.layer1(x))\n",
    "        x = F.relu(self.layer2(x))\n",
    "        x = F.relu(self.layer3(x))\n",
    "        x = F.relu(self.layer4(x))\n",
    "        return x\n",
    "    \n",
    "    def train"
   ]
  },
  {
   "cell_type": "code",
   "execution_count": 10,
   "metadata": {},
   "outputs": [],
   "source": [
    "class ExplorationScheduler():\n",
    "\n",
    "    def __init__(self, epsilon_initial, epsilon_final, num_episodes):\n",
    "        self.scheduler = interp1d([1, num_episodes], [epsilon_initial, epsilon_final])\n",
    "    \n",
    "    # as the current episode increases, epsilon increases from epsilon initial to epsilon final\n",
    "    def getEpsilon(self, curr_episode):\n",
    "        return float(self.scheduler(curr_episode))"
   ]
  },
  {
   "cell_type": "code",
   "execution_count": 11,
   "metadata": {},
   "outputs": [
    {
     "name": "stderr",
     "output_type": "stream",
     "text": [
      "c:\\Users\\Caleb\\miniconda3\\lib\\site-packages\\gym\\envs\\classic_control\\cartpole.py:177: UserWarning: \u001b[33mWARN: You are calling 'step()' even though this environment has already returned terminated = True. You should always call 'reset()' once you receive 'terminated = True' -- any further steps are undefined behavior.\u001b[0m\n",
      "  logger.warn(\n"
     ]
    },
    {
     "ename": "",
     "evalue": "",
     "output_type": "error",
     "traceback": [
      "\u001b[1;31mThe Kernel crashed while executing code in the the current cell or a previous cell. Please review the code in the cell(s) to identify a possible cause of the failure. Click <a href='https://aka.ms/vscodeJupyterKernelCrash'>here</a> for more info. View Jupyter <a href='command:jupyter.viewOutput'>log</a> for further details."
     ]
    }
   ],
   "source": [
    "import gym\n",
    "\n",
    "env = gym.make(\"CartPole-v1\", render_mode=\"human\")\n",
    "states = env.observation_space.shape[0]\n",
    "actions = env.action_space.n\n",
    "\n",
    "model = DQN(states, actions)\n",
    "\n",
    "memory_capacity = 1000\n",
    "num_episodes = 100\n",
    "max_seq_len = 512\n",
    "\n",
    "epsilon_initial = 0.20\n",
    "epislon_final = 0.95\n",
    "ex_scheduler = ExplorationScheduler(epsilon_initial=epsilon_initial, epsilon_final=epislon_final, num_episodes=num_episodes)\n",
    "\n",
    "state, _ = env.reset()\n",
    "\n",
    "for episode in range(1, num_episodes):\n",
    "    aos = ActionObservationSequence(state, max_steps=max_seq_len)\n",
    "    if random.random() > ex_scheduler.getEpsilon(episode): # Explore, choose random action\n",
    "        action = env.action_space.sample()\n",
    "    else: # Exploit, choose perceived best action\n",
    "        with torch.no_grad():\n",
    "            # Convert state to torch tensor\n",
    "            stateTensor = torch.Tensor(state)\n",
    "            \n",
    "            # Pass state through model to get best action\n",
    "            modelOutput = model.forward(stateTensor)\n",
    "\n",
    "            # Get maximum value from the model output (predicted best action)\n",
    "            action = torch.argmax(modelOutput).item()\n",
    "\n",
    "    next_state, reward, is_done, _, _ = env.step(action)\n",
    "\n",
    "    \n",
    "\n"
   ]
  },
  {
   "cell_type": "code",
   "execution_count": null,
   "metadata": {},
   "outputs": [],
   "source": []
  },
  {
   "cell_type": "code",
   "execution_count": null,
   "metadata": {},
   "outputs": [],
   "source": []
  }
 ],
 "metadata": {
  "kernelspec": {
   "display_name": "Python 3.9.5 ('base')",
   "language": "python",
   "name": "python3"
  },
  "language_info": {
   "codemirror_mode": {
    "name": "ipython",
    "version": 3
   },
   "file_extension": ".py",
   "mimetype": "text/x-python",
   "name": "python",
   "nbconvert_exporter": "python",
   "pygments_lexer": "ipython3",
   "version": "3.9.5 (default, May 18 2021, 14:42:02) [MSC v.1916 64 bit (AMD64)]"
  },
  "orig_nbformat": 4,
  "vscode": {
   "interpreter": {
    "hash": "5adbff170eefd52b616dca796305d0e10205860e98b6b6207e9ea3d12a907b41"
   }
  }
 },
 "nbformat": 4,
 "nbformat_minor": 2
}
