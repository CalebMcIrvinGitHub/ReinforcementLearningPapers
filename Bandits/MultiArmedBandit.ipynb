{
 "cells": [
  {
   "cell_type": "code",
   "execution_count": 43,
   "id": "b34b36d9",
   "metadata": {},
   "outputs": [],
   "source": [
    "import numpy as np\n",
    "import matplotlib as plt\n",
    "import seaborn as sns\n",
    "from tqdm import tqdm\n",
    "import pandas as pd"
   ]
  },
  {
   "cell_type": "code",
   "execution_count": 67,
   "id": "302fb038",
   "metadata": {},
   "outputs": [],
   "source": [
    "class explorationOptimizer:\n",
    "    def getEpsilon(epsilon_initial=0.85, epsilon_final=0.05, current_epoch=0, num_epochs=1000):\n",
    "        return epsilon_initial - (epsilon_initial - epsilon_final) * (current_epoch / num_epochs)"
   ]
  },
  {
   "cell_type": "code",
   "execution_count": 37,
   "id": "ad61ecf4",
   "metadata": {},
   "outputs": [],
   "source": [
    "class Agent:\n",
    "    def __init__(self, k=3, num_epochs=100, num_iters=10000, explorationOptimizer=explorationOptimizer, epsilon_initial=0.85, epsilon_final=0.05):\n",
    "        self.k = k # Number of arms\n",
    "        self.num_epochs = num_epochs # Number of times to run\n",
    "        self.num_iters = num_iters # Number of times to select a value before updating the policy\n",
    "        self.bandits = np.random.rand(k) # Probability of success for each arm, sample from a gaussian distribution centered around the mean\n",
    "#         self.bandits = np.array([0.10, 0.12, 0.11, 0.13, 0.14, 0.11, 0.12, 0.09, 0.13, 0.10])\n",
    "        # self.bandits = np.array([0.10, 0.50, 0.60, 0.80, 0.10, 0.25, 0.60, 0.45, 0.75, 0.65])\n",
    "        self.explorationOptimizer = explorationOptimizer\n",
    "        self.epsilon_initial = epsilon_initial\n",
    "        self.epsilon_final = epsilon_final\n",
    "        self.Q = [(1, self.get_reward(i)) for i in range(k)]\n",
    "        self.avg_step_rewards = []\n",
    "        self.bandit_selections = []\n",
    "        \n",
    "    def get_reward(self, selection_idx):\n",
    "        return int(np.random.uniform() <= self.bandits[selection_idx])\n",
    "    \n",
    "    def take_step(self, curr_epoch):\n",
    "        thresholds = np.random.uniform(size=(self.num_iters))\n",
    "        greedy = (np.random.uniform(size=(self.num_iters)) >= self.explorationOptimizer.getEpsilon(self.epsilon_initial, self.epsilon_final, curr_epoch, self.num_epochs)).astype(bool)\n",
    "        avg_max_arm = 0\n",
    "        max_arm_idx = 0\n",
    "        \n",
    "        avg_rewards = [np.average(i[1]) for i in self.Q]\n",
    "        max_arm_idx = np.argmax(avg_rewards)\n",
    "\n",
    "        # step_rewards = []\n",
    "        \n",
    "        # for i in range(self.num_iters):\n",
    "        #     if (greedy[i]):\n",
    "        #         step_rewards.append((max_arm_idx, self.get_reward(max_arm_idx)))\n",
    "        #     else:\n",
    "        #         arm_idx = np.random.randint(0, self.k)\n",
    "        #         step_rewards.append((arm_idx, self.get_reward(arm_idx)))\n",
    "\n",
    "        # for reward in step_rewards:\n",
    "        #     # Incremental update\n",
    "        #     self.Q[reward[0]] = (self.Q[reward[0]][0] + 1, self.Q[reward[0]][1] + 1 / self.Q[reward[0]][0] * (reward[1] - self.Q[reward[0]][1]))\n",
    "        \n",
    "        # return np.average([r[1] for r in step_rewards])\n",
    "\n",
    "        step_rewards = []\n",
    "        epoch_bandit_selections = {i: 0 for i in range(self.k)}\n",
    "        arm_idx = 0\n",
    "\n",
    "        for i in range(self.num_iters):\n",
    "            avg_rewards = [np.average(i[1]) for i in self.Q]\n",
    "            \n",
    "            if (greedy[i]):\n",
    "                arm_idx = np.argmax(avg_rewards)\n",
    "                reward = (arm_idx, self.get_reward(arm_idx))\n",
    "            else:\n",
    "                arm_idx = np.random.randint(0, self.k)\n",
    "                reward = (arm_idx, self.get_reward(arm_idx))\n",
    "            \n",
    "            epoch_bandit_selections[arm_idx] += 1\n",
    "            \n",
    "            self.Q[reward[0]] = (self.Q[reward[0]][0] + 1, self.Q[reward[0]][1] + 1 / self.Q[reward[0]][0] * (reward[1] - self.Q[reward[0]][1]))\n",
    "\n",
    "            step_rewards.append(reward)\n",
    "        \n",
    "        self.bandit_selections.append(epoch_bandit_selections)\n",
    "        \n",
    "        return np.average([r[1] for r in step_rewards])\n",
    "\n",
    "    \n",
    "    def run(self):\n",
    "        for epoch in tqdm(range(self.num_epochs)):\n",
    "            self.avg_step_rewards.append(self.take_step(epoch))\n",
    "        \n",
    "        max_idx = np.argmax([r[0] for r in self.Q])\n",
    "        print(self.Q[max_idx][1])\n",
    "        print(\"Max val \", self.Q[max_idx][1] ,\" at idx \", max_idx)"
   ]
  },
  {
   "cell_type": "code",
   "execution_count": 59,
   "id": "803777ad",
   "metadata": {},
   "outputs": [
    {
     "name": "stdout",
     "output_type": "stream",
     "text": [
      "[0.80183574 0.58090809 0.05621062 0.17926702 0.50208194 0.44678276\n",
      " 0.91507941 0.90470899 0.55679076 0.36101579]\n",
      "Max val  0.9150794112464682  at idx  6\n",
      "0.85\n"
     ]
    }
   ],
   "source": [
    "a = Agent(k=10, num_epochs=100, num_iters=100, explorationOptimizer=explorationOptimizer)\n",
    "max_mean_idx = np.argmax(a.bandits)\n",
    "print(a.bandits)\n",
    "print(\"Max val \", a.bandits[max_mean_idx] ,\" at idx \", max_mean_idx)\n",
    "print(a.explorationOptimizer.getEpsilon())"
   ]
  },
  {
   "cell_type": "code",
   "execution_count": 60,
   "id": "acbda29d",
   "metadata": {},
   "outputs": [
    {
     "name": "stderr",
     "output_type": "stream",
     "text": [
      "100%|██████████| 100/100 [00:01<00:00, 92.01it/s]"
     ]
    },
    {
     "name": "stdout",
     "output_type": "stream",
     "text": [
      "0.9110434635548772\n",
      "Max val  0.9110434635548772  at idx  6\n"
     ]
    },
    {
     "name": "stderr",
     "output_type": "stream",
     "text": [
      "\n"
     ]
    }
   ],
   "source": [
    "a.run()"
   ]
  },
  {
   "cell_type": "code",
   "execution_count": 61,
   "id": "b99d6ac5",
   "metadata": {},
   "outputs": [
    {
     "name": "stdout",
     "output_type": "stream",
     "text": [
      "[457, 457, 452, 472, 449, 457, 5914, 478, 429, 445]\n",
      "[0.8048245614035091, 0.5811403508771934, 0.057649667405764986, 0.18895966029723993, 0.5312500000000004, 0.43640350877192974, 0.9110434635548772, 0.9014675052410903, 0.5093457943925234, 0.3175675675675675]\n"
     ]
    }
   ],
   "source": [
    "print([r[0] for r in a.Q])\n",
    "print([r[1] for r in a.Q])"
   ]
  },
  {
   "cell_type": "code",
   "execution_count": 62,
   "id": "7e8346cb",
   "metadata": {},
   "outputs": [
    {
     "data": {
      "text/plain": [
       "<AxesSubplot:>"
      ]
     },
     "execution_count": 62,
     "metadata": {},
     "output_type": "execute_result"
    },
    {
     "data": {
      "image/png": "[encoded data removed]",
      "text/plain": [
       "<Figure size 432x288 with 1 Axes>"
      ]
     },
     "metadata": {
      "needs_background": "light"
     },
     "output_type": "display_data"
    }
   ],
   "source": [
    "sns.scatterplot(x=[i for i in range(len(a.avg_step_rewards))], y=a.avg_step_rewards)"
   ]
  },
  {
   "cell_type": "code",
   "execution_count": 63,
   "id": "34b65c64",
   "metadata": {},
   "outputs": [
    {
     "data": {
      "text/html": [
       "<div>\n",
       "<style scoped>\n",
       "    .dataframe tbody tr th:only-of-type {\n",
       "        vertical-align: middle;\n",
       "    }\n",
       "\n",
       "    .dataframe tbody tr th {\n",
       "        vertical-align: top;\n",
       "    }\n",
       "\n",
       "    .dataframe thead th {\n",
       "        text-align: right;\n",
       "    }\n",
       "</style>\n",
       "<table border=\"1\" class=\"dataframe\">\n",
       "  <thead>\n",
       "    <tr style=\"text-align: right;\">\n",
       "      <th></th>\n",
       "      <th>0</th>\n",
       "      <th>1</th>\n",
       "      <th>2</th>\n",
       "      <th>3</th>\n",
       "      <th>4</th>\n",
       "      <th>5</th>\n",
       "      <th>6</th>\n",
       "      <th>7</th>\n",
       "      <th>8</th>\n",
       "      <th>9</th>\n",
       "    </tr>\n",
       "  </thead>\n",
       "  <tbody>\n",
       "    <tr>\n",
       "      <th>0</th>\n",
       "      <td>0.15</td>\n",
       "      <td>0.09</td>\n",
       "      <td>0.06</td>\n",
       "      <td>0.11</td>\n",
       "      <td>0.08</td>\n",
       "      <td>0.07</td>\n",
       "      <td>0.19</td>\n",
       "      <td>0.09</td>\n",
       "      <td>0.05</td>\n",
       "      <td>0.11</td>\n",
       "    </tr>\n",
       "    <tr>\n",
       "      <th>1</th>\n",
       "      <td>0.09</td>\n",
       "      <td>0.09</td>\n",
       "      <td>0.05</td>\n",
       "      <td>0.13</td>\n",
       "      <td>0.08</td>\n",
       "      <td>0.05</td>\n",
       "      <td>0.26</td>\n",
       "      <td>0.07</td>\n",
       "      <td>0.08</td>\n",
       "      <td>0.10</td>\n",
       "    </tr>\n",
       "    <tr>\n",
       "      <th>2</th>\n",
       "      <td>0.06</td>\n",
       "      <td>0.08</td>\n",
       "      <td>0.14</td>\n",
       "      <td>0.12</td>\n",
       "      <td>0.07</td>\n",
       "      <td>0.07</td>\n",
       "      <td>0.28</td>\n",
       "      <td>0.07</td>\n",
       "      <td>0.04</td>\n",
       "      <td>0.07</td>\n",
       "    </tr>\n",
       "    <tr>\n",
       "      <th>3</th>\n",
       "      <td>0.04</td>\n",
       "      <td>0.09</td>\n",
       "      <td>0.10</td>\n",
       "      <td>0.10</td>\n",
       "      <td>0.02</td>\n",
       "      <td>0.12</td>\n",
       "      <td>0.27</td>\n",
       "      <td>0.09</td>\n",
       "      <td>0.09</td>\n",
       "      <td>0.08</td>\n",
       "    </tr>\n",
       "    <tr>\n",
       "      <th>4</th>\n",
       "      <td>0.10</td>\n",
       "      <td>0.06</td>\n",
       "      <td>0.10</td>\n",
       "      <td>0.09</td>\n",
       "      <td>0.08</td>\n",
       "      <td>0.06</td>\n",
       "      <td>0.30</td>\n",
       "      <td>0.07</td>\n",
       "      <td>0.06</td>\n",
       "      <td>0.08</td>\n",
       "    </tr>\n",
       "    <tr>\n",
       "      <th>...</th>\n",
       "      <td>...</td>\n",
       "      <td>...</td>\n",
       "      <td>...</td>\n",
       "      <td>...</td>\n",
       "      <td>...</td>\n",
       "      <td>...</td>\n",
       "      <td>...</td>\n",
       "      <td>...</td>\n",
       "      <td>...</td>\n",
       "      <td>...</td>\n",
       "    </tr>\n",
       "    <tr>\n",
       "      <th>95</th>\n",
       "      <td>0.02</td>\n",
       "      <td>0.00</td>\n",
       "      <td>0.01</td>\n",
       "      <td>0.02</td>\n",
       "      <td>0.01</td>\n",
       "      <td>0.01</td>\n",
       "      <td>0.91</td>\n",
       "      <td>0.01</td>\n",
       "      <td>0.00</td>\n",
       "      <td>0.01</td>\n",
       "    </tr>\n",
       "    <tr>\n",
       "      <th>96</th>\n",
       "      <td>0.01</td>\n",
       "      <td>0.01</td>\n",
       "      <td>0.00</td>\n",
       "      <td>0.01</td>\n",
       "      <td>0.01</td>\n",
       "      <td>0.02</td>\n",
       "      <td>0.91</td>\n",
       "      <td>0.00</td>\n",
       "      <td>0.00</td>\n",
       "      <td>0.03</td>\n",
       "    </tr>\n",
       "    <tr>\n",
       "      <th>97</th>\n",
       "      <td>0.01</td>\n",
       "      <td>0.01</td>\n",
       "      <td>0.01</td>\n",
       "      <td>0.01</td>\n",
       "      <td>0.01</td>\n",
       "      <td>0.01</td>\n",
       "      <td>0.91</td>\n",
       "      <td>0.00</td>\n",
       "      <td>0.02</td>\n",
       "      <td>0.01</td>\n",
       "    </tr>\n",
       "    <tr>\n",
       "      <th>98</th>\n",
       "      <td>0.00</td>\n",
       "      <td>0.00</td>\n",
       "      <td>0.02</td>\n",
       "      <td>0.00</td>\n",
       "      <td>0.00</td>\n",
       "      <td>0.03</td>\n",
       "      <td>0.92</td>\n",
       "      <td>0.00</td>\n",
       "      <td>0.01</td>\n",
       "      <td>0.02</td>\n",
       "    </tr>\n",
       "    <tr>\n",
       "      <th>99</th>\n",
       "      <td>0.00</td>\n",
       "      <td>0.00</td>\n",
       "      <td>0.00</td>\n",
       "      <td>0.00</td>\n",
       "      <td>0.00</td>\n",
       "      <td>0.00</td>\n",
       "      <td>0.98</td>\n",
       "      <td>0.01</td>\n",
       "      <td>0.00</td>\n",
       "      <td>0.01</td>\n",
       "    </tr>\n",
       "  </tbody>\n",
       "</table>\n",
       "<p>100 rows × 10 columns</p>\n",
       "</div>"
      ],
      "text/plain": [
       "       0     1     2     3     4     5     6     7     8     9\n",
       "0   0.15  0.09  0.06  0.11  0.08  0.07  0.19  0.09  0.05  0.11\n",
       "1   0.09  0.09  0.05  0.13  0.08  0.05  0.26  0.07  0.08  0.10\n",
       "2   0.06  0.08  0.14  0.12  0.07  0.07  0.28  0.07  0.04  0.07\n",
       "3   0.04  0.09  0.10  0.10  0.02  0.12  0.27  0.09  0.09  0.08\n",
       "4   0.10  0.06  0.10  0.09  0.08  0.06  0.30  0.07  0.06  0.08\n",
       "..   ...   ...   ...   ...   ...   ...   ...   ...   ...   ...\n",
       "95  0.02  0.00  0.01  0.02  0.01  0.01  0.91  0.01  0.00  0.01\n",
       "96  0.01  0.01  0.00  0.01  0.01  0.02  0.91  0.00  0.00  0.03\n",
       "97  0.01  0.01  0.01  0.01  0.01  0.01  0.91  0.00  0.02  0.01\n",
       "98  0.00  0.00  0.02  0.00  0.00  0.03  0.92  0.00  0.01  0.02\n",
       "99  0.00  0.00  0.00  0.00  0.00  0.00  0.98  0.01  0.00  0.01\n",
       "\n",
       "[100 rows x 10 columns]"
      ]
     },
     "execution_count": 63,
     "metadata": {},
     "output_type": "execute_result"
    }
   ],
   "source": [
    "bandits = pd.DataFrame(a.bandit_selections) # Get arms selected at each epoch\n",
    "bandits = bandits.div(bandits.sum(axis=1), axis=0) # Get pct of times each bandit arm was selected\n",
    "bandits"
   ]
  },
  {
   "cell_type": "code",
   "execution_count": 64,
   "id": "070f6e19",
   "metadata": {},
   "outputs": [
    {
     "data": {
      "text/plain": [
       "0     0.15\n",
       "1     0.09\n",
       "2     0.06\n",
       "3     0.04\n",
       "4     0.10\n",
       "      ... \n",
       "95    0.02\n",
       "96    0.01\n",
       "97    0.01\n",
       "98    0.00\n",
       "99    0.00\n",
       "Name: 0, Length: 100, dtype: float64"
      ]
     },
     "execution_count": 64,
     "metadata": {},
     "output_type": "execute_result"
    }
   ],
   "source": [
    "bandits.iloc[:, 0]"
   ]
  },
  {
   "cell_type": "code",
   "execution_count": 66,
   "id": "240f5093",
   "metadata": {},
   "outputs": [
    {
     "data": {
      "image/png": "[encoded data removed]",
      "text/plain": [
       "<Figure size 432x288 with 1 Axes>"
      ]
     },
     "metadata": {
      "needs_background": "light"
     },
     "output_type": "display_data"
    }
   ],
   "source": [
    "for bandit in range(len(bandits.columns)):\n",
    "    sns.lineplot(x=[epoch for epoch in range(len(bandits))], y=bandits.iloc[:, bandit])"
   ]
  },
  {
   "cell_type": "code",
   "execution_count": null,
   "id": "4a3555ec",
   "metadata": {},
   "outputs": [],
   "source": []
  }
 ],
 "metadata": {
  "kernelspec": {
   "display_name": "Python 3",
   "language": "python",
   "name": "python3"
  },
  "language_info": {
   "codemirror_mode": {
    "name": "ipython",
    "version": 3
   },
   "file_extension": ".py",
   "mimetype": "text/x-python",
   "name": "python",
   "nbconvert_exporter": "python",
   "pygments_lexer": "ipython3",
   "version": "3.8.8"
  },
  "vscode": {
   "interpreter": {
    "hash": "b71e2ea7fd88c01752403482f8b390a2bb97379ffce9aede2d7f28ae0381b030"
   }
  }
 },
 "nbformat": 4,
 "nbformat_minor": 5
}
