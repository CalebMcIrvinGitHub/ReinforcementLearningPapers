{
 "cells": [
  {
   "cell_type": "code",
   "execution_count": 1,
   "id": "b34b36d9",
   "metadata": {},
   "outputs": [],
   "source": [
    "import numpy as np\n",
    "import matplotlib as plt\n",
    "import seaborn as sns\n",
    "from tqdm import tqdm"
   ]
  },
  {
   "cell_type": "code",
   "execution_count": 51,
   "id": "302fb038",
   "metadata": {},
   "outputs": [],
   "source": [
    "class explorationOptimizer:\n",
    "    def getEpsilon(epsilon_initial=0.85, epsilon_final=0.05, current_epoch=0, num_epochs=1000):\n",
    "        # pct_of_way = current_epoch / num_epochs\n",
    "        return epsilon_initial - (epsilon_initial - epsilon_final) * (current_epoch / num_epochs)"
   ]
  },
  {
   "cell_type": "code",
   "execution_count": 52,
   "id": "c5ad5634",
   "metadata": {},
   "outputs": [
    {
     "data": {
      "text/plain": [
       "0.45"
      ]
     },
     "execution_count": 52,
     "metadata": {},
     "output_type": "execute_result"
    }
   ],
   "source": [
    "explorationOptimizer.getEpsilon(0.85, 0.05, 500, 1000)"
   ]
  },
  {
   "cell_type": "code",
   "execution_count": 69,
   "id": "ad61ecf4",
   "metadata": {},
   "outputs": [],
   "source": [
    "class Agent:\n",
    "    def __init__(self, k=3, num_epochs=100, num_iters=10000, explorationOptimizer=explorationOptimizer, epsilon_initial=0.85, epsilon_final=0.05):\n",
    "        self.k = k # Number of arms\n",
    "        self.num_epochs = num_epochs # Number of times to run\n",
    "        self.num_iters = num_iters # Number of times to select a value before updating the policy\n",
    "        self.bandits = np.random.rand(k) # Probability of success for each arm, sample from a gaussian distribution centered around the mean\n",
    "#         self.bandits = np.array([0.10, 0.12, 0.11, 0.13, 0.14, 0.11, 0.12, 0.09, 0.13, 0.10])\n",
    "        # self.bandits = np.array([0.10, 0.50, 0.60, 0.80, 0.10, 0.25, 0.60, 0.45, 0.75, 0.65])\n",
    "        self.explorationOptimizer = explorationOptimizer\n",
    "        self.epsilon_initial = epsilon_initial\n",
    "        self.epsilon_final = epsilon_final\n",
    "        self.Q = [(1, self.get_reward(i)) for i in range(k)]\n",
    "        self.avg_step_rewards = []            \n",
    "        \n",
    "    def get_reward(self, selection_idx):\n",
    "        return int(np.random.uniform() <= self.bandits[selection_idx])\n",
    "    \n",
    "    def take_step(self, curr_epoch):\n",
    "        thresholds = np.random.uniform(size=(self.num_iters))\n",
    "        greedy = (np.random.uniform(size=(self.num_iters)) >= self.explorationOptimizer.getEpsilon(self.epsilon_initial, self.epsilon_final, curr_epoch, self.num_epochs)).astype(bool)\n",
    "        avg_max_arm = 0\n",
    "        max_arm_idx = 0\n",
    "        \n",
    "        avg_rewards = [np.average(i[1]) for i in self.Q]\n",
    "        max_arm_idx = np.argmax(avg_rewards)\n",
    "\n",
    "        step_rewards = []\n",
    "        \n",
    "        for i in range(self.num_iters):\n",
    "            if (greedy[i]):\n",
    "                step_rewards.append((max_arm_idx, self.get_reward(max_arm_idx)))\n",
    "            else:\n",
    "                arm_idx = np.random.randint(0, self.k)\n",
    "                step_rewards.append((arm_idx, self.get_reward(arm_idx)))\n",
    "\n",
    "        for reward in step_rewards:\n",
    "            # Incremental update\n",
    "            self.Q[reward[0]] = (self.Q[reward[0]][0] + 1, self.Q[reward[0]][1] + 1 / self.Q[reward[0]][0] * (reward[1] - self.Q[reward[0]][1]))\n",
    "        \n",
    "        return np.average([r[1] for r in step_rewards])\n",
    "    \n",
    "    def run(self):\n",
    "        for epoch in tqdm(range(self.num_epochs)):\n",
    "            self.avg_step_rewards.append(self.take_step(epoch))\n",
    "        \n",
    "        max_idx = np.argmax([r[0] for r in self.Q])\n",
    "        print(self.Q[max_idx][1])\n",
    "        print(\"Max val \", self.Q[max_idx][1] ,\" at idx \", max_idx)"
   ]
  },
  {
   "cell_type": "code",
   "execution_count": 74,
   "id": "803777ad",
   "metadata": {},
   "outputs": [
    {
     "name": "stdout",
     "output_type": "stream",
     "text": [
      "[0.99477625 0.32269257 0.61532172]\n",
      "Max val  0.994776249366923  at idx  0\n",
      "0.85\n"
     ]
    }
   ],
   "source": [
    "a = Agent(k=3, num_epochs=1000, num_iters=1000, explorationOptimizer=explorationOptimizer)\n",
    "max_mean_idx = np.argmax(a.bandits)\n",
    "print(a.bandits)\n",
    "print(\"Max val \", a.bandits[max_mean_idx] ,\" at idx \", max_mean_idx)\n",
    "print(a.explorationOptimizer.getEpsilon())"
   ]
  },
  {
   "cell_type": "code",
   "execution_count": 75,
   "id": "acbda29d",
   "metadata": {},
   "outputs": [
    {
     "name": "stderr",
     "output_type": "stream",
     "text": [
      "100%|██████████| 1000/1000 [00:05<00:00, 189.17it/s]"
     ]
    },
    {
     "name": "stdout",
     "output_type": "stream",
     "text": [
      "0.9946623996342538\n",
      "Max val  0.9946623996342538  at idx  0\n"
     ]
    },
    {
     "name": "stderr",
     "output_type": "stream",
     "text": [
      "\n"
     ]
    }
   ],
   "source": [
    "a.run()"
   ]
  },
  {
   "cell_type": "code",
   "execution_count": 76,
   "id": "b99d6ac5",
   "metadata": {},
   "outputs": [
    {
     "name": "stdout",
     "output_type": "stream",
     "text": [
      "[699941, 149988, 150074]\n",
      "[0.9946623996342538, 0.3192476681312324, 0.6135680635424111]\n"
     ]
    }
   ],
   "source": [
    "print([r[0] for r in a.Q])\n",
    "print([r[1] for r in a.Q])"
   ]
  },
  {
   "cell_type": "code",
   "execution_count": 77,
   "id": "7e8346cb",
   "metadata": {},
   "outputs": [
    {
     "data": {
      "text/plain": [
       "<AxesSubplot:>"
      ]
     },
     "execution_count": 77,
     "metadata": {},
     "output_type": "execute_result"
    },
    {
     "data": {
      "image/png": "[encoded data removed]",
      "text/plain": [
       "<Figure size 432x288 with 1 Axes>"
      ]
     },
     "metadata": {
      "needs_background": "light"
     },
     "output_type": "display_data"
    }
   ],
   "source": [
    "sns.scatterplot(x=[i for i in range(len(a.avg_step_rewards))], y=a.avg_step_rewards)"
   ]
  },
  {
   "cell_type": "code",
   "execution_count": null,
   "id": "f0bbfa42",
   "metadata": {},
   "outputs": [],
   "source": []
  },
  {
   "cell_type": "code",
   "execution_count": null,
   "id": "240f5093",
   "metadata": {},
   "outputs": [],
   "source": []
  }
 ],
 "metadata": {
  "kernelspec": {
   "display_name": "Python 3",
   "language": "python",
   "name": "python3"
  },
  "language_info": {
   "codemirror_mode": {
    "name": "ipython",
    "version": 3
   },
   "file_extension": ".py",
   "mimetype": "text/x-python",
   "name": "python",
   "nbconvert_exporter": "python",
   "pygments_lexer": "ipython3",
   "version": "3.8.8 (default, Apr 13 2021, 15:08:03) [MSC v.1916 64 bit (AMD64)]"
  },
  "vscode": {
   "interpreter": {
    "hash": "b71e2ea7fd88c01752403482f8b390a2bb97379ffce9aede2d7f28ae0381b030"
   }
  }
 },
 "nbformat": 4,
 "nbformat_minor": 5
}
